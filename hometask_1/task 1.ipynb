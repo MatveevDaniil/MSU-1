{
 "cells": [
  {
   "cell_type": "code",
   "execution_count": 1,
   "metadata": {},
   "outputs": [],
   "source": [
    "class Test:\n",
    "  def assert_equals(self, a, b, *args, **kwargs):\n",
    "    assert a == b\n",
    "    print('Passed')\n",
    "Test = Test()"
   ]
  },
  {
   "cell_type": "code",
   "execution_count": null,
   "metadata": {},
   "outputs": [],
   "source": [
    "# \"Change the Word\" - 6 points\n",
    "# https://edabit.com/challenge/eKhy6Af4v3Yr8RfBE"
   ]
  },
  {
   "cell_type": "code",
   "execution_count": 2,
   "metadata": {},
   "outputs": [],
   "source": [
    "def change_string(word):\n",
    "  l = list(word)\n",
    "  for idx, letter in enumerate(l):\n",
    "    if 65 <= ord(letter) < 90:\n",
    "      l[idx] = chr(ord(letter) + 1)\n",
    "    elif ord(letter) == 90:\n",
    "      l[idx] = 'A'\n",
    "    elif 97 <= ord(letter) <= 122:\n",
    "      l[idx] = chr(ord(letter) - 32)\n",
    "  return \"\".join(l[::-1])"
   ]
  },
  {
   "cell_type": "code",
   "execution_count": 3,
   "metadata": {},
   "outputs": [
    {
     "name": "stdout",
     "output_type": "stream",
     "text": [
      "Passed\n",
      "Passed\n",
      "Passed\n",
      "Passed\n",
      "Passed\n"
     ]
    }
   ],
   "source": [
    "Test.assert_equals(change_string(\"ApPle\"), \"ELQPB\")\n",
    "Test.assert_equals(change_string(\"draGON\"), \"OPHARD\")\n",
    "Test.assert_equals(change_string(\"ZebrA\"),  \"BRBEA\")\n",
    "Test.assert_equals(change_string(\"sNaKe\"), \"ELAOS\")\n",
    "Test.assert_equals(change_string(\"MElon\"), \"NOLFN\")"
   ]
  },
  {
   "cell_type": "code",
   "execution_count": null,
   "metadata": {},
   "outputs": [],
   "source": [
    "# Length of Sorting Cycle - 6 points\n",
    "# https://edabit.com/challenge/K9MuSPs9W4zCJq6EM "
   ]
  },
  {
   "cell_type": "code",
   "execution_count": 4,
   "metadata": {},
   "outputs": [],
   "source": [
    "def cycle_length(lst, n):\n",
    "  lst_sort = list(lst)\n",
    "  lst_sort.sort()\n",
    "  dic = dict()\n",
    "  for idx, item in enumerate(lst_sort):\n",
    "    dic[item] = idx\n",
    "  return _cycle_length(dic, lst, n)\n",
    "\n",
    "def _cycle_length(dic, lst, n):\n",
    "  swap_num = 0\n",
    "  n_idx = lst.index(n)\n",
    "  t = lst[dic[n]]\n",
    "  if dic[n] != n_idx:\n",
    "    lst[dic[n]] = n\n",
    "    lst[n_idx] = t\n",
    "    swap_num += 1\n",
    "  if dic[t] != lst.index(t):\n",
    "    swap_num += _cycle_length(dic, lst, t)\n",
    "  return swap_num"
   ]
  },
  {
   "cell_type": "code",
   "execution_count": 5,
   "metadata": {},
   "outputs": [
    {
     "name": "stdout",
     "output_type": "stream",
     "text": [
      "Passed\n",
      "Passed\n",
      "Passed\n",
      "Passed\n",
      "Passed\n",
      "Passed\n",
      "Passed\n",
      "Passed\n",
      "Passed\n",
      "Passed\n",
      "Passed\n",
      "Passed\n"
     ]
    }
   ],
   "source": [
    "Test.assert_equals(cycle_length([1, 5, 4, 3, 2, 6], 4), 1)\n",
    "Test.assert_equals(cycle_length([1, 5, 4, 3, 2, 6], 6), 0)\n",
    "Test.assert_equals(cycle_length([1, 5, 4, 3, 2, 6], 5), 1)\n",
    "Test.assert_equals(cycle_length([1, 4, 2, 3, 5], 4), 2)\n",
    "Test.assert_equals(cycle_length([11, 44, 22, 31, 50], 44), 2)\n",
    "Test.assert_equals(cycle_length([1, 6, 7, 2, 4, 3, 8, 9, 5], 7), 7)\n",
    "Test.assert_equals(cycle_length([43, 81, 88, 93, 17, 32, 19, 11], 93), 5)\n",
    "Test.assert_equals(cycle_length([1, 6, 7, 2, 4, 3, 8, 9, 5], 1), 0)\n",
    "Test.assert_equals(cycle_length([1, 6, 7, 2, 4, 3, 9, 8, 5], 6), 6)\n",
    "Test.assert_equals(cycle_length([1, 6, 7, 2, 4, 3, 9, 8, 5], 5), 6)\n",
    "Test.assert_equals(cycle_length([1, 6, 7, 2, 4, 3, 9, 8, 5], 2), 6)\n",
    "Test.assert_equals(cycle_length([1, 6, 7, 2, 4, 3, 9, 8, 5], 3), 6)"
   ]
  },
  {
   "cell_type": "code",
   "execution_count": null,
   "metadata": {},
   "outputs": [],
   "source": [
    "# Truncatable Primes - 6 points\n",
    "# https://edabit.com/challenge/BfSj2nBc33aCQrbSg"
   ]
  },
  {
   "cell_type": "code",
   "execution_count": 6,
   "metadata": {},
   "outputs": [],
   "source": [
    "def truncatable(n):\n",
    "  truncatable = poss_truncatable(n)\n",
    "  if truncatable:\n",
    "    left = is_left(n)\n",
    "    right = is_right(n)\n",
    "    if left and not right:\n",
    "      return 'left'\n",
    "    elif right and not left:\n",
    "      return 'right'\n",
    "    elif left and right:\n",
    "      return 'both'\n",
    "    else:\n",
    "      return False\n",
    "  else:\n",
    "    return False\n",
    "\n",
    "def prime(n):\n",
    "  if n == 1:\n",
    "    return False\n",
    "  if 1 < n <= 3:\n",
    "    return True\n",
    "  if n % 2 == 0:\n",
    "    return False\n",
    "  for i in range(3, int(n ** 0.5) + 1, 2):\n",
    "    if n % i == 0:\n",
    "      return False\n",
    "  else:\n",
    "    return True\n",
    "  \n",
    "def poss_truncatable(n):\n",
    "  if prime(n):\n",
    "    return \"0\" not in str(n)\n",
    "  else:\n",
    "    return False\n",
    "  \n",
    "def is_left(n):\n",
    "  for i in range(len(str(n)) - 1):\n",
    "    m = int(str(n)[i + 1:])\n",
    "    if not prime(m):\n",
    "      return False\n",
    "  return True\n",
    "\n",
    "def is_right(n):\n",
    "  for i in range(len(str(n)) - 1):\n",
    "    m = int(str(n)[:- i - 1])\n",
    "    if not prime(m):\n",
    "      return False\n",
    "  return True"
   ]
  },
  {
   "cell_type": "code",
   "execution_count": 7,
   "metadata": {},
   "outputs": [
    {
     "name": "stdout",
     "output_type": "stream",
     "text": [
      "Passed\n",
      "Passed\n",
      "Passed\n",
      "Passed\n",
      "Passed\n",
      "Passed\n",
      "Passed\n",
      "Passed\n",
      "Passed\n",
      "Passed\n",
      "Passed\n",
      "Passed\n",
      "Passed\n"
     ]
    }
   ],
   "source": [
    "Test.assert_equals(truncatable(47), \"left\")\n",
    "Test.assert_equals(truncatable(347), \"left\")\n",
    "Test.assert_equals(truncatable(62383), \"left\")\n",
    "Test.assert_equals(truncatable(79), \"right\")\n",
    "Test.assert_equals(truncatable(7331), \"right\")\n",
    "Test.assert_equals(truncatable(233993), \"right\")\n",
    "Test.assert_equals(truncatable(3797), \"both\")\n",
    "Test.assert_equals(truncatable(739397), \"both\")\n",
    "Test.assert_equals(truncatable(5), \"both\", \"single-digit number treated as both\")\n",
    "Test.assert_equals(truncatable(349), False)\n",
    "Test.assert_equals(truncatable(2317), False, \"the starting number is composite\")\n",
    "Test.assert_equals(truncatable(131), False, \"1 is not a prime\")\n",
    "Test.assert_equals(truncatable(6043), False, \"cannot contain a 0 digit\")"
   ]
  }
 ],
 "metadata": {
  "kernelspec": {
   "display_name": "Python 3",
   "language": "python",
   "name": "python3"
  },
  "language_info": {
   "codemirror_mode": {
    "name": "ipython",
    "version": 2
   },
   "file_extension": ".py",
   "mimetype": "text/x-python",
   "name": "python",
   "nbconvert_exporter": "python",
   "pygments_lexer": "ipython2",
   "version": "2.7.17"
  }
 },
 "nbformat": 4,
 "nbformat_minor": 2
}
