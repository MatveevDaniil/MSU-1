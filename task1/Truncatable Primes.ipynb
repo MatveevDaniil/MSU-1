{
 "cells": [
  {
   "cell_type": "code",
   "execution_count": null,
   "metadata": {},
   "outputs": [],
   "source": [
    "# https://edabit.com/challenge/BfSj2nBc33aCQrbSg - 6 points"
   ]
  },
  {
   "cell_type": "code",
   "execution_count": 1,
   "metadata": {},
   "outputs": [],
   "source": [
    "from custom_test import Test"
   ]
  },
  {
   "cell_type": "code",
   "execution_count": 2,
   "metadata": {},
   "outputs": [],
   "source": [
    "def truncatable(n):\n",
    "  truncatable = poss_truncatable(n)\n",
    "  if truncatable:\n",
    "    left = is_left(n)\n",
    "    right = is_right(n)\n",
    "    if left and not right:\n",
    "      return 'left'\n",
    "    elif right and not left:\n",
    "      return 'right'\n",
    "    elif left and right:\n",
    "      return 'both'\n",
    "    else:\n",
    "      return False\n",
    "  else:\n",
    "    return False\n",
    "\n",
    "def prime(n):\n",
    "  if n == 1:\n",
    "    return False\n",
    "  if 1 < n <= 3:\n",
    "    return True\n",
    "  if n % 2 == 0:\n",
    "    return False\n",
    "  for i in range(3, int(n ** 0.5) + 1, 2):\n",
    "    if n % i == 0:\n",
    "      return False\n",
    "  else:\n",
    "    return True\n",
    "  \n",
    "def poss_truncatable(n):\n",
    "  if prime(n):\n",
    "    return \"0\" not in str(n)\n",
    "  else:\n",
    "    return False\n",
    "  \n",
    "def is_left(n):\n",
    "  for i in range(len(str(n)) - 1):\n",
    "    m = int(str(n)[i + 1:])\n",
    "    if not prime(m):\n",
    "      return False\n",
    "  return True\n",
    "\n",
    "def is_right(n):\n",
    "  for i in range(len(str(n)) - 1):\n",
    "    m = int(str(n)[:- i - 1])\n",
    "    if not prime(m):\n",
    "      return False\n",
    "  return True"
   ]
  },
  {
   "cell_type": "code",
   "execution_count": 3,
   "metadata": {},
   "outputs": [
    {
     "name": "stdout",
     "output_type": "stream",
     "text": [
      "Passed\n",
      "Passed\n",
      "Passed\n",
      "Passed\n",
      "Passed\n",
      "Passed\n",
      "Passed\n",
      "Passed\n",
      "Passed\n",
      "Passed\n",
      "Passed\n",
      "Passed\n",
      "Passed\n"
     ]
    }
   ],
   "source": [
    "Test.assert_equals(truncatable(47), \"left\")\n",
    "Test.assert_equals(truncatable(347), \"left\")\n",
    "Test.assert_equals(truncatable(62383), \"left\")\n",
    "Test.assert_equals(truncatable(79), \"right\")\n",
    "Test.assert_equals(truncatable(7331), \"right\")\n",
    "Test.assert_equals(truncatable(233993), \"right\")\n",
    "Test.assert_equals(truncatable(3797), \"both\")\n",
    "Test.assert_equals(truncatable(739397), \"both\")\n",
    "Test.assert_equals(truncatable(5), \"both\", \"single-digit number treated as both\")\n",
    "Test.assert_equals(truncatable(349), False)\n",
    "Test.assert_equals(truncatable(2317), False, \"the starting number is composite\")\n",
    "Test.assert_equals(truncatable(131), False, \"1 is not a prime\")\n",
    "Test.assert_equals(truncatable(6043), False, \"cannot contain a 0 digit\")"
   ]
  }
 ],
 "metadata": {
  "kernelspec": {
   "display_name": "Python 3",
   "language": "python",
   "name": "python3"
  },
  "language_info": {
   "codemirror_mode": {
    "name": "ipython",
    "version": 3
   },
   "file_extension": ".py",
   "mimetype": "text/x-python",
   "name": "python",
   "nbconvert_exporter": "python",
   "pygments_lexer": "ipython3",
   "version": "3.8.3"
  }
 },
 "nbformat": 4,
 "nbformat_minor": 4
}
