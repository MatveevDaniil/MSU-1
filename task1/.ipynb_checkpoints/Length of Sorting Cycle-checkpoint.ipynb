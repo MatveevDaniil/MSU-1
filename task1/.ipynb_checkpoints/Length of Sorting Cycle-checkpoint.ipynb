{
 "cells": [
  {
   "cell_type": "code",
   "execution_count": 1,
   "metadata": {},
   "outputs": [],
   "source": [
    "# https://edabit.com/challenge/K9MuSPs9W4zCJq6EM - 6 points"
   ]
  },
  {
   "cell_type": "code",
   "execution_count": 2,
   "metadata": {},
   "outputs": [],
   "source": [
    "from custom_test import Test"
   ]
  },
  {
   "cell_type": "code",
   "execution_count": 3,
   "metadata": {},
   "outputs": [],
   "source": [
    "def cycle_length(lst, n):\n",
    "  lst_sort = list(lst)\n",
    "  lst_sort.sort()\n",
    "  dic = dict()\n",
    "  for idx, item in enumerate(lst_sort):\n",
    "    dic[item] = idx\n",
    "  return _cycle_length(dic, lst, n)\n",
    "\n",
    "def _cycle_length(dic, lst, n):\n",
    "  swap_num = 0\n",
    "  n_idx = lst.index(n)\n",
    "  t = lst[dic[n]]\n",
    "  if dic[n] != n_idx:\n",
    "    lst[dic[n]] = n\n",
    "    lst[n_idx] = t\n",
    "    swap_num += 1\n",
    "  if dic[t] != lst.index(t):\n",
    "    swap_num += _cycle_length(dic, lst, t)\n",
    "  return swap_num"
   ]
  },
  {
   "cell_type": "code",
   "execution_count": 4,
   "metadata": {},
   "outputs": [
    {
     "name": "stdout",
     "output_type": "stream",
     "text": [
      "Passed\n",
      "Passed\n",
      "Passed\n",
      "Passed\n",
      "Passed\n",
      "Passed\n",
      "Passed\n",
      "Passed\n",
      "Passed\n",
      "Passed\n",
      "Passed\n",
      "Passed\n"
     ]
    }
   ],
   "source": [
    "Test.assert_equals(cycle_length([1, 5, 4, 3, 2, 6], 4), 1)\n",
    "Test.assert_equals(cycle_length([1, 5, 4, 3, 2, 6], 6), 0)\n",
    "Test.assert_equals(cycle_length([1, 5, 4, 3, 2, 6], 5), 1)\n",
    "Test.assert_equals(cycle_length([1, 4, 2, 3, 5], 4), 2)\n",
    "Test.assert_equals(cycle_length([11, 44, 22, 31, 50], 44), 2)\n",
    "Test.assert_equals(cycle_length([1, 6, 7, 2, 4, 3, 8, 9, 5], 7), 7)\n",
    "Test.assert_equals(cycle_length([43, 81, 88, 93, 17, 32, 19, 11], 93), 5)\n",
    "Test.assert_equals(cycle_length([1, 6, 7, 2, 4, 3, 8, 9, 5], 1), 0)\n",
    "Test.assert_equals(cycle_length([1, 6, 7, 2, 4, 3, 9, 8, 5], 6), 6)\n",
    "Test.assert_equals(cycle_length([1, 6, 7, 2, 4, 3, 9, 8, 5], 5), 6)\n",
    "Test.assert_equals(cycle_length([1, 6, 7, 2, 4, 3, 9, 8, 5], 2), 6)\n",
    "Test.assert_equals(cycle_length([1, 6, 7, 2, 4, 3, 9, 8, 5], 3), 6)"
   ]
  }
 ],
 "metadata": {
  "kernelspec": {
   "display_name": "Python 3",
   "language": "python",
   "name": "python3"
  },
  "language_info": {
   "codemirror_mode": {
    "name": "ipython",
    "version": 2
   },
   "file_extension": ".py",
   "mimetype": "text/x-python",
   "name": "python",
   "nbconvert_exporter": "python",
   "pygments_lexer": "ipython2",
   "version": "2.7.17"
  }
 },
 "nbformat": 4,
 "nbformat_minor": 4
}
