{
 "cells": [
  {
   "cell_type": "code",
   "execution_count": null,
   "metadata": {},
   "outputs": [],
   "source": [
    "# https://edabit.com/challenge/eKhy6Af4v3Yr8RfBE - 6 points"
   ]
  },
  {
   "cell_type": "code",
   "execution_count": 1,
   "metadata": {},
   "outputs": [],
   "source": [
    "from custom_test import Test"
   ]
  },
  {
   "cell_type": "code",
   "execution_count": 2,
   "metadata": {},
   "outputs": [],
   "source": [
    "def change_string(word):\n",
    "  l = list(word)\n",
    "  for idx, letter in enumerate(l):\n",
    "    if 65 <= ord(letter) < 90:\n",
    "      l[idx] = chr(ord(letter) + 1)\n",
    "    elif ord(letter) == 90:\n",
    "      l[idx] = 'A'\n",
    "    elif 97 <= ord(letter) <= 122:\n",
    "      l[idx] = chr(ord(letter) - 32)\n",
    "  return \"\".join(l[::-1])"
   ]
  },
  {
   "cell_type": "code",
   "execution_count": 3,
   "metadata": {},
   "outputs": [
    {
     "name": "stdout",
     "output_type": "stream",
     "text": [
      "Passed\n",
      "Passed\n",
      "Passed\n",
      "Passed\n",
      "Passed\n"
     ]
    }
   ],
   "source": [
    "Test.assert_equals(change_string(\"ApPle\"), \"ELQPB\")\n",
    "Test.assert_equals(change_string(\"draGON\"), \"OPHARD\")\n",
    "Test.assert_equals(change_string(\"ZebrA\"),  \"BRBEA\")\n",
    "Test.assert_equals(change_string(\"sNaKe\"), \"ELAOS\")\n",
    "Test.assert_equals(change_string(\"MElon\"), \"NOLFN\")"
   ]
  }
 ],
 "metadata": {
  "kernelspec": {
   "display_name": "Python 3",
   "language": "python",
   "name": "python3"
  },
  "language_info": {
   "codemirror_mode": {
    "name": "ipython",
    "version": 3
   },
   "file_extension": ".py",
   "mimetype": "text/x-python",
   "name": "python",
   "nbconvert_exporter": "python",
   "pygments_lexer": "ipython3",
   "version": "3.8.3"
  }
 },
 "nbformat": 4,
 "nbformat_minor": 4
}
