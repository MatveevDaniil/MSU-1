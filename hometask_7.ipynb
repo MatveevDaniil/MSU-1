{
 "cells": [
  {
   "cell_type": "markdown",
   "metadata": {
    "id": "elmONJBjB1wZ"
   },
   "source": [
    "# Topic Modeling and Gibbs Sampling"
   ]
  },
  {
   "cell_type": "markdown",
   "metadata": {
    "id": "ke8yIh3yC-yw"
   },
   "source": [
    "Задача: описать текст через распределение весов по некоторому фиксированному набору топиков (тегов). Например, для набора тегов Политика, Военные сражения, Спорт, Интернет, Драма представить роман \"Война и мир\" как вектор (0.3, 0.2, 0, 0, 0.5), а статью в газете про допинг в велоспорте как вектор (0.1, 0, 0.7, 0, 0.2).\n",
    "\n",
    "Для чего, например, это нужно: имея векторное представление для текстов, тексты можно сравнивать, рекомендовать похожие.\n",
    "\n",
    "Условие: даны только набор текстов и количество тем."
   ]
  },
  {
   "cell_type": "markdown",
   "metadata": {
    "id": "XJdIgvb5B1wd"
   },
   "source": [
    "## Немного теории"
   ]
  },
  {
   "cell_type": "markdown",
   "metadata": {
    "id": "mipLvBaZB1we"
   },
   "source": [
    "Будем представлять текст как неупорядоченный набор слов (Bag-of-words model). Предположим, что имеется K тегов и для каждого тега выбрано распределение $\\phi_k$ над списком всевозможных слов (словарем из N слов). По сути, каждое $\\phi_k$ - это вектор длины N из неотрицательных величин, в сумме дающих 1. Вектора $\\phi_k$ независимы и моделируются распредеделением Дирихле $Dir(\\beta)$. Теперь, чтобы собрать текст d из $n$ слов, будем действовать по следующей схеме:\n",
    "\n",
    "\n",
    "* выберем распредление для тегов $\\theta_d$. Вновь, $\\theta_d$ - это вектор длины K из неотрицательных величин, в сумме дающих 1. Поэтому естественно брать $\\theta_d \\sim Dir(\\theta | \\alpha)$\n",
    "\n",
    "* Для i от 1 до n:\n",
    "  * выберем тег $z_i$ согласно распределению $\\theta_d$\n",
    "  * выберем слово $w_i$ из распределения для данного тега, т.е. $w_i \\sim \\phi_{z_i}$\n",
    "  * добавляем слово $w_i$ в текст.\n",
    "\n",
    "Полученная модель называется моделью LDA (Latent Dirichlet Allocation). Описанная  схема задает совместное распределение скрытых и наблюдаемых параметров по всем текстам корпуса размера M в виде:\n",
    "\n",
    "\n",
    "$p(\\textbf{w}, \\textbf{z}, \\theta, \\phi | \\alpha, \\beta) = Dir(\\theta | \\alpha) Dir(\\phi|\\beta)Cat(\\textbf{z}|\\theta)Cat(\\textbf{w}|\\phi_z)$.\n",
    "\n",
    "Здесь $\\textbf{w}$ и $\\textbf{z}$ обозначают вектора слов и тегов по всем текстам, $\\theta$ - набор из $\\theta_d$ для каждого документа (матрица $M\\times K$), $\\phi$ - набор из $\\phi_k$ для каждого тега (матрица $K\\times N$).\n"
   ]
  },
  {
   "cell_type": "markdown",
   "metadata": {
    "id": "D9yKUGWnXCYm"
   },
   "source": [
    "![img](https://www.researchgate.net/publication/336065245/figure/fig1/AS:807371718815752@1569503826964/Latent-Dirichlet-allocation-LDA-process-and-its-two-outputs-a-LDA-document.ppm)"
   ]
  },
  {
   "cell_type": "markdown",
   "metadata": {
    "id": "hiXKW7NQWeO8"
   },
   "source": [
    "Наша задача - восстановить распределение $p(\\textbf{z}, \\theta, \\phi | \\textbf{w}, \\alpha, \\beta)$.\n",
    "\n",
    "\n",
    "Немного упростим жизнь, и поставим себе задачей восстановить распределение $p(\\textbf{z} | \\textbf{w}, \\alpha, \\beta) = \\int\\int p(\\textbf{z}, \\theta, \\phi | \\textbf{w}, \\alpha, \\beta)\\textrm{d}\\theta\\textrm{d}\\phi$.\n",
    "\n",
    "В этот момент на помощь приходить алгоритм Gibbs Sampling. Напомним, для оценки набора парамеров $\\textbf{z} = (z_1, z_2, ..., z_m)$ используется схема:\n",
    "\n",
    "$z_i^{(t)} \\sim p(z_i^{(t)}\\ | \\ z_1=z_1^{t}, ..., z_{i-1}=z_{i-1}^{t},\n",
    "z_{i+1}=z_{i+1}^{t-1}, z_{m}=z_{m}^{t-1})$."
   ]
  },
  {
   "cell_type": "markdown",
   "metadata": {
    "id": "aQeReuG_aDI7"
   },
   "source": [
    "Условные распределения выводятся так. Сначала замечаем, что\n",
    "\n",
    "$p(z_i|\\textbf{z}_{\\hat{i}}, \\textbf{w}, \\alpha, \\beta) = \\frac{p(z_i,\\textbf{z}_{\\hat{i}}, \\textbf{w}| \\alpha, \\beta)}{p(\\textbf{z}_{\\hat{i}}, \\textbf{w}| \\alpha, \\beta)}  = \\frac{p(\\textbf{z}, \\textbf{w}| \\alpha, \\beta)}{p(\\textbf{z}_{\\hat{i}}, \\textbf{w}_{\\hat{i}}| \\alpha, \\beta)  p(w_i|\\alpha, \\beta)}$.\n",
    "\n",
    "Здесь $\\textbf{z}_{\\hat{i}}$, $\\textbf{w}_{\\hat{i}}$ - вектора без $i$-oй копмоненты. "
   ]
  },
  {
   "cell_type": "markdown",
   "metadata": {
    "id": "yA0r2c_ob2c9"
   },
   "source": [
    "Далее расписываем:\n",
    "\n",
    "$p(\\textbf{z}, \\textbf{w}| \\alpha, \\beta) = \\int\\int p(\\textbf{z}, \\textbf{w}, \\theta, \\phi| \\alpha, \\beta)\\textrm{d}\\theta\\textrm{d}\\phi = \\int\\int Dir(\\theta | \\alpha) Dir(\\phi|\\beta)Cat(\\textbf{z}|\\theta)Cat(\\textbf{w}|\\phi_z)\\textrm{d}\\theta\\textrm{d}\\phi = \n",
    "\\int Dir(\\theta | \\alpha) Cat(\\textbf{z}|\\theta)\\textrm{d}\\theta \\int Dir(\\phi|\\beta)Cat(\\textbf{w}|\\phi_z)\\textrm{d}\\phi$\n",
    "\n",
    "и обнаруживаем, что оба интеграла в последнем выражении вычисляются аналитически. Для примера первый:\n",
    "\n",
    "$\\int Dir(\\theta | \\alpha) Cat(\\textbf{z}|\\theta)\\textrm{d}\\theta = \\prod\\limits_d \\int Dir(\\theta_d | \\alpha) Cat(\\textbf{z}_d|\\theta_d)\\textrm{d}\\theta_d = \\prod\\limits_d \\int \\frac{1}{B(\\alpha)}\\prod\\limits_k \\theta_{d, k}^{\\alpha-1}\\prod\\limits_i \\theta_{d, z_i}\\textrm{d}\\theta_d = \\prod\\limits_d\\frac{1}{B(\\alpha)}\\int\\prod\\limits_k \\theta_{d, k}^{n_{d, k} + \\alpha - 1}\\textrm{d}\\theta_d = \\prod\\limits_d \\frac{B(n_{d,\\cdot} + \\alpha)}{B(\\alpha)}$.\n",
    "\n",
    "Здесь  $n_{d,k}$ - количество тэгов $k$ в тексте $d$, $n_{d,\\cdot}$ - вектор длины $K$ из этих величин.\n",
    "\n",
    "Аналогично, второй интеграл \n",
    "$\\int Dir(\\phi|\\beta)Cat(\\textbf{w}|\\phi_z)\\textrm{d}\\phi = \\prod\\limits_k \\frac{B(n_{k,\\cdot} + \\beta)}{B(\\beta)}$,\n",
    "\n",
    "где $n_{k,\\cdot}$ - вектор длины $N$ встречаемости слов внутри тэга $k$.\n",
    "\n",
    "Получаем: \n",
    "\n",
    "$p(\\textbf{z}, \\textbf{w}| \\alpha, \\beta) = \\prod\\limits_d \\frac{B(n_{d,\\cdot} + \\alpha)}{B(\\alpha)} \\prod\\limits_k \\frac{B(n_{k,\\cdot} + \\beta)}{B(\\beta)}$.\n",
    "\n",
    "Теперь\n",
    "$p(z_i|\\textbf{z}_{\\hat{i}}, \\textbf{w}, \\alpha, \\beta) \\propto \\prod\\limits_d \\frac{B(n_{d,\\cdot} + \\alpha)}{B(n_{d,\\cdot}^{\\hat{i}} + \\alpha)} \\prod\\limits_k \\frac{B(n_{k,\\cdot} + \\beta)}{B(n_{k,\\cdot}^{\\hat{i}} + \\beta)}$.\n",
    "\n",
    "Знак $\\propto$ означает пропорциональность с точностью до общего множителя $p(w_i|\\alpha, \\beta)$. Векторы $n_{d,\\cdot}^{\\hat{i}}$ и $n_{k,\\cdot}^{\\hat{i}}$ получены из векторов $n_{d,\\cdot}$ и $n_{k,\\cdot}$ после выбрасывания $z_i$. \n",
    "\n",
    "Выражение упрощается дальше, расписывая бета-функцию через гамма-функции. Напомним,\n",
    "$B(x_1, ..., x_m) = \\frac{\\Gamma(x_1)\\cdot...\\cdot\\Gamma(x_m)}{\\Gamma(x_1 + ... + x_m)}$, а также $\\Gamma(n) = (n-1)\\Gamma(n-1)$. Получим:\n",
    "\n",
    "$p(z_i=k |\\textbf{z}_{\\hat{i}}, \\textbf{w}, \\alpha, \\beta) \\propto (n_{d_i, k}^{\\hat{i}} + \\alpha_k) \\frac{n_{k, w_i}^{\\hat{i}} + \\beta_{w_i}}{\\sum\\limits_{w}(n_{k, w}^{\\hat{i}} + \\beta_{w})}$.\n"
   ]
  },
  {
   "cell_type": "markdown",
   "metadata": {
    "id": "NiYEQ_IkZUim"
   },
   "source": [
    "С этого места можно полностью собрать алгоритм моделирования плотности $p(\\textbf{z}| \\textbf{w}, \\alpha, \\beta)$. Введем  обозначение $n_k$ - количество слов, отнесенных к тегу $k$, $W$ - общее количество слов в корпусе, $\\beta_{sum} = \\sum\\limits_w\\beta_w$\n",
    "\n",
    "Алгоритм:\n",
    "\n",
    "* заведем счетчики $n_{k, w}$, $n_{d, k}$, $n_k$\n",
    "* случайным образом расставим теги словам, обновим счетчики $n_{k, w}$, $n_{d, k}$, $n_k$\n",
    "* пока не сойдемся к стационарному режиму:\n",
    "  * для каждого $i$ от 1 до $W$:\n",
    "      * для каждого $k$ от 1 до $K$:\n",
    "        * $I = I\\{z_i = k\\}$ (индикатор)\n",
    "        * вычисляем $p_k = (n_{d_i, k} + \\alpha_k - I) \\frac{n_{k, w_i} + \\beta_{w_i} - I}{n_k + \\beta_{sum} - I}$\n",
    "      * сэмплим новый $z_i$ из полученного распределения $(p_1, ..., p_K)$\n",
    "      * обновляем счетчики для учета обновленого значения $z_i$\n",
    "\n",
    "На практике удобно реализовавать так:\n",
    "\n",
    "* заведем счетчики $n_{k, w}$, $n_{d, k}$, $n_k$, заполненные нулями\n",
    "* случайным образом расставим теги словам, обновим счетчики $n_{k, w}$, $n_{d, k}$, $n_k$\n",
    "* пока не сойдемся к стационарному режиму:\n",
    "  * для каждого $i$ от 1 до $W$:\n",
    "      * $n_{d_i, z_i} \\mathrel{-}= 1$, $n_{z_i, w_i} \\mathrel{-}= 1$, $n_{z_i} \\mathrel{-}= 1$\n",
    "      * для каждого $k$ от 1 до $K$:\n",
    "        * вычисляем $p_k = (n_{d, k} + \\alpha_k) \\frac{n_{k, w_i} + \\beta_{w_i}}{n_k + \\beta_{sum}}$\n",
    "      * сэмплим новый $z_i$ из полученного распределения $(p_1, ..., p_K)$\n",
    "      * $n_{d_i, z_i} \\mathrel{+}= 1$, $n_{z_i, w_i} \\mathrel{+}= 1$, $n_{z_i} \\mathrel{+}= 1$\n",
    "\n",
    "\n",
    "\n"
   ]
  },
  {
   "cell_type": "markdown",
   "metadata": {
    "id": "eaV85RF1gd6l"
   },
   "source": [
    "Восстановив распредление для $\\textbf{z}$, можем оценить $\\theta$ и $\\phi$, о которых мы ненадолго забыли. Оценить можно, например, через матожидание по апостериорным распределениям. Получите формулы самостоятельно!"
   ]
  },
  {
   "cell_type": "markdown",
   "metadata": {
    "id": "K13WQakft3kk"
   },
   "source": [
    "Литература:\n",
    "\n",
    "http://u.cs.biu.ac.il/~89-680/darling-lda.pdf\n",
    "\n",
    "https://www.cs.cmu.edu/~mgormley/courses/10701-f16/slides/lecture20-topic-models.pdf"
   ]
  },
  {
   "cell_type": "markdown",
   "metadata": {
    "id": "S1M8TVaPiIwd"
   },
   "source": [
    "Перейдем к практике."
   ]
  },
  {
   "cell_type": "markdown",
   "metadata": {
    "id": "KKGHWSSiB1we"
   },
   "source": [
    "## Датасет\n",
    "\n",
    "Возьмем популярный датасет [20 Newsgroups](http://qwone.com/~jason/20Newsgroups/), встроенный в пакет ```sklearn```. Датасет состоит из ~20К текстов, классифицированных на 20 категорий. Датасет разбит на ```train``` и ```test```. Для загрузки используем  модуль ```fetch_20newsgroups```, в параметрах указать, что мета информацию о тексте загружать не нужно:"
   ]
  },
  {
   "cell_type": "code",
   "execution_count": 1,
   "metadata": {
    "colab": {
     "base_uri": "https://localhost:8080/",
     "height": 51
    },
    "id": "ghK1srgpB1wf",
    "outputId": "a64b1478-d337-44eb-8413-841ea0f70888"
   },
   "outputs": [],
   "source": [
    "import numpy as np\n",
    "from sklearn.datasets import fetch_20newsgroups\n",
    "\n",
    "newsgroups_train = fetch_20newsgroups(subset='train', remove=('headers', 'footers', 'quotes'))"
   ]
  },
  {
   "cell_type": "markdown",
   "metadata": {
    "id": "_BSEchmRB1wh"
   },
   "source": [
    "Выведем список категорий текстов:"
   ]
  },
  {
   "cell_type": "code",
   "execution_count": 2,
   "metadata": {
    "colab": {
     "base_uri": "https://localhost:8080/",
     "height": 363
    },
    "id": "lR3knXluB1wi",
    "outputId": "d6b41c1a-21d8-4baf-de17-f6c8f7ce8f1f"
   },
   "outputs": [
    {
     "data": {
      "text/plain": [
       "['alt.atheism',\n",
       " 'comp.graphics',\n",
       " 'comp.os.ms-windows.misc',\n",
       " 'comp.sys.ibm.pc.hardware',\n",
       " 'comp.sys.mac.hardware',\n",
       " 'comp.windows.x',\n",
       " 'misc.forsale',\n",
       " 'rec.autos',\n",
       " 'rec.motorcycles',\n",
       " 'rec.sport.baseball',\n",
       " 'rec.sport.hockey',\n",
       " 'sci.crypt',\n",
       " 'sci.electronics',\n",
       " 'sci.med',\n",
       " 'sci.space',\n",
       " 'soc.religion.christian',\n",
       " 'talk.politics.guns',\n",
       " 'talk.politics.mideast',\n",
       " 'talk.politics.misc',\n",
       " 'talk.religion.misc']"
      ]
     },
     "execution_count": 2,
     "metadata": {},
     "output_type": "execute_result"
    }
   ],
   "source": [
    "newsgroups_train.target_names"
   ]
  },
  {
   "cell_type": "markdown",
   "metadata": {
    "id": "unhqlZciB1wl"
   },
   "source": [
    "Атрибут ```traget``` хранит номера категорий для текстов из обучающей выборки:"
   ]
  },
  {
   "cell_type": "code",
   "execution_count": 3,
   "metadata": {
    "colab": {
     "base_uri": "https://localhost:8080/",
     "height": 34
    },
    "id": "PNjAq0D4B1wl",
    "outputId": "97f526ec-c9f7-466d-aee7-2df3428b26a9"
   },
   "outputs": [
    {
     "data": {
      "text/plain": [
       "array([ 7,  4,  4,  1, 14, 16, 13,  3,  2,  4])"
      ]
     },
     "execution_count": 3,
     "metadata": {},
     "output_type": "execute_result"
    }
   ],
   "source": [
    "newsgroups_train.target[:10]"
   ]
  },
  {
   "cell_type": "markdown",
   "metadata": {
    "id": "OjzuWGdBB1wp"
   },
   "source": [
    "Доступ к самим текстам через атрибут ```data```. Выведем текст и категорию случайного примера из обучающего датасета:"
   ]
  },
  {
   "cell_type": "code",
   "execution_count": 4,
   "metadata": {
    "colab": {
     "base_uri": "https://localhost:8080/",
     "height": 259
    },
    "id": "etlhxjk0B1wq",
    "outputId": "56847531-dd5f-4ad8-dcac-28c83b2a4c4b"
   },
   "outputs": [
    {
     "name": "stdout",
     "output_type": "stream",
     "text": [
      "Topic = rec.motorcycles\n",
      "\n",
      "hey... I'm pretty new to the wonderful world of motorcycles... I just\n",
      "bought\n",
      "a used 81 Kaw KZ650 CSR from a friend.... I was just wondering what kind of\n",
      "\n",
      "saddle bags I could get for it (since I know nothing about them)  are there\n",
      "bags for the gas tank?  how much would some cost, and how much do they\n",
      "hold?\n",
      "thanks for your advice!!!  I may be new to riding, but I love it\n",
      "already!!!!\n",
      ":)\n",
      "\n",
      "\n"
     ]
    }
   ],
   "source": [
    "n = 854\n",
    "print('Topic = {0}\\n'.format(newsgroups_train.target_names[newsgroups_train.target[n]]))\n",
    "print(newsgroups_train.data[n])"
   ]
  },
  {
   "cell_type": "markdown",
   "metadata": {
    "id": "fLheZ8pTB1wx"
   },
   "source": [
    "## Векторное представление текста\n",
    "\n",
    "Представим текст как вектор индикаторов вхождений слов из некоторого словаря в текст. Это простейшая модель BOF. \n",
    "\n",
    "Сформируем словарь на основе нашего набора текстов. Для этого используем модуль ```CountVectorizer```:"
   ]
  },
  {
   "cell_type": "code",
   "execution_count": 5,
   "metadata": {
    "colab": {
     "base_uri": "https://localhost:8080/",
     "height": 259
    },
    "id": "-eXBAq3SB1wy",
    "outputId": "37dca253-a58a-4390-af8f-43a8d751366d"
   },
   "outputs": [
    {
     "name": "stderr",
     "output_type": "stream",
     "text": [
      "C:\\Users\\danil\\miniconda3\\lib\\site-packages\\sklearn\\utils\\deprecation.py:143: FutureWarning: The sklearn.feature_extraction.stop_words module is  deprecated in version 0.22 and will be removed in version 0.24. The corresponding classes / functions should instead be imported from sklearn.feature_extraction.text. Anything that cannot be imported from sklearn.feature_extraction.text is now part of the private API.\n",
      "  warnings.warn(message, FutureWarning)\n"
     ]
    },
    {
     "data": {
      "text/plain": [
       "CountVectorizer(binary=True,\n",
       "                stop_words=frozenset({'a', 'about', 'above', 'across', 'after',\n",
       "                                      'afterwards', 'again', 'against', 'all',\n",
       "                                      'almost', 'alone', 'along', 'already',\n",
       "                                      'also', 'although', 'always', 'am',\n",
       "                                      'among', 'amongst', 'amoungst', 'amount',\n",
       "                                      'an', 'and', 'another', 'any', 'anyhow',\n",
       "                                      'anyone', 'anything', 'anyway',\n",
       "                                      'anywhere', ...}))"
      ]
     },
     "execution_count": 5,
     "metadata": {},
     "output_type": "execute_result"
    }
   ],
   "source": [
    "from sklearn.feature_extraction.text import CountVectorizer\n",
    "from sklearn.feature_extraction.stop_words import ENGLISH_STOP_WORDS\n",
    "\n",
    "vectorizer = CountVectorizer(lowercase=True, stop_words=ENGLISH_STOP_WORDS,\n",
    "                             analyzer='word', binary=True)\n",
    "vectorizer.fit(newsgroups_train.data)"
   ]
  },
  {
   "cell_type": "markdown",
   "metadata": {
    "id": "WYt0K78cB1w0"
   },
   "source": [
    "Количество проиндексированных слов:"
   ]
  },
  {
   "cell_type": "code",
   "execution_count": 6,
   "metadata": {
    "colab": {
     "base_uri": "https://localhost:8080/",
     "height": 34
    },
    "id": "RjjRR9cTB1w1",
    "outputId": "bd25d0e9-8c2d-437f-e49e-207ca482cc1b"
   },
   "outputs": [
    {
     "data": {
      "text/plain": [
       "101322"
      ]
     },
     "execution_count": 6,
     "metadata": {},
     "output_type": "execute_result"
    }
   ],
   "source": [
    "len(vectorizer.vocabulary_)"
   ]
  },
  {
   "cell_type": "markdown",
   "metadata": {
    "id": "rDTu6nCHB1xJ"
   },
   "source": [
    "Проиндексированные слова и их индексы:"
   ]
  },
  {
   "cell_type": "code",
   "execution_count": 124,
   "metadata": {
    "colab": {
     "base_uri": "https://localhost:8080/",
     "height": 1000
    },
    "id": "0TRxTcoeB1xK",
    "outputId": "56f0a281-46ea-488d-9763-0e288c186069"
   },
   "outputs": [
    {
     "data": {
      "text/plain": [
       "{'wondering': 96879,\n",
       " 'enlighten': 37256,\n",
       " 'car': 25717,\n",
       " 'saw': 80420,\n",
       " 'day': 31927,\n",
       " 'door': 34741,\n",
       " 'sports': 84312,\n",
       " 'looked': 57247,\n",
       " 'late': 55606,\n",
       " '60s': 9843,\n",
       " 'early': 35902,\n",
       " '70s': 11174,\n",
       " 'called': 25437,\n",
       " 'bricklin': 24108,\n",
       " 'doors': 34742,\n",
       " 'really': 76269,\n",
       " 'small': 83208,\n",
       " 'addition': 16806,\n",
       " 'bumper': 24583,\n",
       " 'separate': 81450,\n",
       " 'rest': 77676,\n",
       " 'body': 23430,\n",
       " 'know': 54493,\n",
       " 'tellme': 87913,\n",
       " 'model': 62594,\n",
       " 'engine': 37208,\n",
       " 'specs': 84050,\n",
       " 'years': 99608,\n",
       " 'production': 73174,\n",
       " 'history': 46690,\n",
       " 'info': 49800,\n",
       " 'funky': 41874,\n",
       " 'looking': 57250,\n",
       " 'mail': 59071,\n",
       " 'fair': 39296,\n",
       " 'number': 66680,\n",
       " 'brave': 23973,\n",
       " 'souls': 83779,\n",
       " 'upgraded': 92389,\n",
       " 'si': 82337,\n",
       " 'clock': 27889,\n",
       " 'oscillator': 68519,\n",
       " 'shared': 81848,\n",
       " 'experiences': 38637,\n",
       " 'poll': 72039,\n",
       " 'send': 81378,\n",
       " 'brief': 24125,\n",
       " 'message': 60923,\n",
       " 'detailing': 33127,\n",
       " 'procedure': 73122,\n",
       " 'speed': 84088,\n",
       " 'attained': 20236,\n",
       " 'cpu': 30233,\n",
       " 'rated': 75904,\n",
       " 'add': 16791,\n",
       " 'cards': 25769,\n",
       " 'adapters': 16776,\n",
       " 'heat': 45997,\n",
       " 'sinks': 82666,\n",
       " 'hour': 47310,\n",
       " 'usage': 92588,\n",
       " 'floppy': 40727,\n",
       " 'disk': 34011,\n",
       " 'functionality': 41836,\n",
       " '800': 12266,\n",
       " 'floppies': 40725,\n",
       " 'especially': 37867,\n",
       " 'requested': 77460,\n",
       " 'summarizing': 86076,\n",
       " 'days': 31942,\n",
       " 'network': 65377,\n",
       " 'knowledge': 54504,\n",
       " 'base': 21688,\n",
       " 'upgrade': 92386,\n",
       " 'haven': 45775,\n",
       " 'answered': 18757,\n",
       " 'thanks': 88277,\n",
       " 'folks': 40950,\n",
       " 'mac': 58777,\n",
       " 'plus': 71778,\n",
       " 'finally': 40284,\n",
       " 'gave': 42680,\n",
       " 'ghost': 43239,\n",
       " 'weekend': 95865,\n",
       " 'starting': 84921,\n",
       " 'life': 56530,\n",
       " '512k': 8677,\n",
       " 'way': 95674,\n",
       " '1985': 3483,\n",
       " 'sooo': 83714,\n",
       " 'market': 59552,\n",
       " 'new': 65475,\n",
       " 'machine': 58818,\n",
       " 'bit': 22913,\n",
       " 'sooner': 83713,\n",
       " 'intended': 50302,\n",
       " 'picking': 71139,\n",
       " 'powerbook': 72399,\n",
       " '160': 2940,\n",
       " 'maybe': 59935,\n",
       " '180': 3248,\n",
       " 'bunch': 24591,\n",
       " 'questions': 75095,\n",
       " 'hopefully': 47151,\n",
       " 'somebody': 83660,\n",
       " 'answer': 18755,\n",
       " 'does': 34617,\n",
       " 'anybody': 18883,\n",
       " 'dirt': 33760,\n",
       " 'round': 79037,\n",
       " 'introductions': 50597,\n",
       " 'expected': 38604,\n",
       " 'heard': 45975,\n",
       " '185c': 3301,\n",
       " 'supposed': 86308,\n",
       " 'make': 59153,\n",
       " 'appearence': 19072,\n",
       " 'summer': 86079,\n",
       " 'anymore': 18889,\n",
       " 'don': 34696,\n",
       " 'access': 16417,\n",
       " 'macleak': 58864,\n",
       " 'rumors': 79373,\n",
       " 'price': 72952,\n",
       " 'drops': 35113,\n",
       " 'line': 56676,\n",
       " 'like': 56591,\n",
       " 'ones': 67929,\n",
       " 'duo': 35385,\n",
       " 'just': 52861,\n",
       " 'went': 95966,\n",
       " 'recently': 76397,\n",
       " 'impression': 49251,\n",
       " 'display': 34113,\n",
       " 'probably': 73091,\n",
       " 'swing': 86648,\n",
       " 'got': 43914,\n",
       " '80mb': 12356,\n",
       " '120': 2223,\n",
       " 'feel': 39787,\n",
       " 'better': 22475,\n",
       " 'yea': 99602,\n",
       " 'looks': 57254,\n",
       " 'great': 44241,\n",
       " 'store': 85349,\n",
       " 'wow': 97051,\n",
       " 'good': 43852,\n",
       " 'solicit': 83610,\n",
       " 'opinions': 68088,\n",
       " 'people': 70436,\n",
       " 'use': 92600,\n",
       " 'worth': 97019,\n",
       " 'taking': 87383,\n",
       " 'size': 82759,\n",
       " 'money': 62794,\n",
       " 'hit': 46692,\n",
       " 'active': 16690,\n",
       " 'realize': 76261,\n",
       " 'real': 76241,\n",
       " 'subjective': 85740,\n",
       " 'question': 75083,\n",
       " 've': 93598,\n",
       " 'played': 71620,\n",
       " 'machines': 58826,\n",
       " 'computer': 28881,\n",
       " 'breifly': 24044,\n",
       " 'figured': 40178,\n",
       " 'actually': 16715,\n",
       " 'uses': 92624,\n",
       " 'daily': 31623,\n",
       " 'prove': 73551,\n",
       " 'helpful': 46163,\n",
       " 'hellcats': 46134,\n",
       " 'perform': 70494,\n",
       " 'advance': 17003,\n",
       " 'email': 36809,\n",
       " 'll': 56988,\n",
       " 'post': 72291,\n",
       " 'summary': 86077,\n",
       " 'news': 65517,\n",
       " 'reading': 76218,\n",
       " 'time': 88835,\n",
       " 'premium': 72761,\n",
       " 'finals': 40285,\n",
       " 'corner': 29852,\n",
       " 'tom': 89184,\n",
       " 'willis': 96403,\n",
       " 'twillis': 90490,\n",
       " 'ecn': 36082,\n",
       " 'purdue': 73974,\n",
       " 'edu': 36234,\n",
       " 'electrical': 36612,\n",
       " 'engineering': 37212,\n",
       " 'weitek': 95921,\n",
       " 'address': 16818,\n",
       " 'phone': 70985,\n",
       " 'information': 49822,\n",
       " 'chip': 26997,\n",
       " 'article': 19689,\n",
       " 'c5owcb': 25113,\n",
       " 'n3p': 64543,\n",
       " 'world': 96983,\n",
       " 'std': 85008,\n",
       " 'com': 28405,\n",
       " 'tombaker': 89195,\n",
       " 'baker': 21413,\n",
       " 'understanding': 91640,\n",
       " 'errors': 37739,\n",
       " 'basically': 21725,\n",
       " 'known': 54509,\n",
       " 'bugs': 24497,\n",
       " 'warning': 95535,\n",
       " 'software': 83557,\n",
       " 'things': 88484,\n",
       " 'checked': 26809,\n",
       " 'right': 78195,\n",
       " 'values': 93325,\n",
       " 'aren': 19421,\n",
       " 'set': 81587,\n",
       " 'till': 88819,\n",
       " 'launch': 55653,\n",
       " 'suchlike': 85935,\n",
       " 'fix': 40440,\n",
       " 'code': 28151,\n",
       " 'possibly': 72290,\n",
       " 'introduce': 50592,\n",
       " 'tell': 87908,\n",
       " 'crew': 30414,\n",
       " 'ok': 67681,\n",
       " '213': 4520,\n",
       " 'liftoff': 56550,\n",
       " 'ignore': 48697,\n",
       " 'course': 30091,\n",
       " 'term': 88042,\n",
       " 'rigidly': 78222,\n",
       " 'defined': 32452,\n",
       " 'doubt': 34809,\n",
       " 'using': 92637,\n",
       " 'quote': 75177,\n",
       " 'allegedly': 17943,\n",
       " 'read': 76207,\n",
       " 'presenting': 72823,\n",
       " 'argument': 19462,\n",
       " 'weapons': 95811,\n",
       " 'mass': 59702,\n",
       " 'destruction': 33112,\n",
       " 'commonly': 28575,\n",
       " 'understood': 91650,\n",
       " 'switching': 86666,\n",
       " 'topics': 89281,\n",
       " 'point': 71950,\n",
       " 'evidently': 38232,\n",
       " 'allowed': 18006,\n",
       " 'later': 55612,\n",
       " 'analysis': 18442,\n",
       " 'given': 43387,\n",
       " 'consider': 29305,\n",
       " 'class': 27692,\n",
       " 'responded': 77648,\n",
       " 'request': 77459,\n",
       " 'treatment': 89867,\n",
       " 'astrocytomas': 20036,\n",
       " 'couldn': 30015,\n",
       " 'thank': 88272,\n",
       " 'directly': 33745,\n",
       " 'bouncing': 23749,\n",
       " 'probs': 73111,\n",
       " 'sean': 81078,\n",
       " 'debra': 32138,\n",
       " 'sharon': 81860,\n",
       " 'thought': 88567,\n",
       " 'publicly': 73811,\n",
       " 'sure': 86350,\n",
       " 'glad': 43476,\n",
       " 'accidentally': 16434,\n",
       " 'rn': 78616,\n",
       " 'instead': 50188,\n",
       " 'rm': 78551,\n",
       " 'trying': 90158,\n",
       " 'delete': 32588,\n",
       " 'file': 40217,\n",
       " 'september': 81478,\n",
       " 'hmmm': 46823,\n",
       " 'shows': 82222,\n",
       " 'scsi': 80945,\n",
       " 'controler': 29587,\n",
       " 'range': 75816,\n",
       " '5mb': 9463,\n",
       " 'controller': 29593,\n",
       " '6mb': 10776,\n",
       " '10mb': 1883,\n",
       " 'burst': 24698,\n",
       " 'note': 66349,\n",
       " 'increase': 49478,\n",
       " 'quadra': 74958,\n",
       " 'version': 93839,\n",
       " 'exist': 38534,\n",
       " 'pc': 70140,\n",
       " 'mode': 62589,\n",
       " '16': 2939,\n",
       " 'wide': 96303,\n",
       " 'fast': 39508,\n",
       " '12mb': 2402,\n",
       " '20mb': 4463,\n",
       " '32': 6203,\n",
       " '15': 2777,\n",
       " '40mb': 7521,\n",
       " 'data': 31820,\n",
       " 'twice': 90481,\n",
       " 'esdi': 37829,\n",
       " 'correct': 29884,\n",
       " 'reach': 76185,\n",
       " '20': 4306,\n",
       " 'faster': 39515,\n",
       " 'ide': 48521,\n",
       " '96': 13781,\n",
       " 'facts': 39243,\n",
       " 'posted': 72303,\n",
       " 'newsgroup': 65530,\n",
       " 'ibm': 48358,\n",
       " 'sheet': 81934,\n",
       " 'available': 20583,\n",
       " 'ftp': 41728,\n",
       " 'sumex': 86062,\n",
       " 'aim': 17514,\n",
       " 'stanford': 84859,\n",
       " '36': 6576,\n",
       " '44': 7699,\n",
       " 'report': 77367,\n",
       " 'compare': 28642,\n",
       " 'txt': 90546,\n",
       " '173': 3156,\n",
       " '161': 2956,\n",
       " 'problem': 73103,\n",
       " 'inconsiant': 49447,\n",
       " 'documented': 34589,\n",
       " 'apple': 19094,\n",
       " 'salesperson': 80105,\n",
       " 'said': 80055,\n",
       " 'maximum': 59921,\n",
       " 'synchronous': 86803,\n",
       " 'ansynchronous': 18760,\n",
       " 'slower': 83137,\n",
       " 'interface': 50378,\n",
       " 'think': 88487,\n",
       " 'driven': 35083,\n",
       " 'true': 90100,\n",
       " 'win': 96428,\n",
       " 'downloaded': 34856,\n",
       " 'icons': 48451,\n",
       " 'bmp': 23319,\n",
       " 'figure': 40177,\n",
       " 'change': 26651,\n",
       " 'wallpaper': 95442,\n",
       " 'help': 46158,\n",
       " 'appreciated': 19162,\n",
       " 'thanx': 88284,\n",
       " 'brando': 23947,\n",
       " 'board': 23375,\n",
       " 'year': 99605,\n",
       " 'work': 96948,\n",
       " 'diskdoubler': 34014,\n",
       " 'autodoubler': 20502,\n",
       " 'licensing': 56494,\n",
       " 'stac': 84760,\n",
       " 'technologies': 87783,\n",
       " 'owners': 69024,\n",
       " 'compression': 28828,\n",
       " 'technology': 87784,\n",
       " 'writing': 97166,\n",
       " 'memory': 60760,\n",
       " 'lost': 57331,\n",
       " 'reference': 76700,\n",
       " 'wrong': 97178,\n",
       " 'problems': 73108,\n",
       " 'hard': 45557,\n",
       " 'say': 80430,\n",
       " 'fault': 39560,\n",
       " 'decompress': 32266,\n",
       " 'troubled': 90075,\n",
       " 'recompress': 76488,\n",
       " 'icon': 48441,\n",
       " 'usually': 92683,\n",
       " 'reappears': 76295,\n",
       " 'mentioned': 60812,\n",
       " 'freeware': 41493,\n",
       " 'expansion': 38592,\n",
       " 'utility': 92736,\n",
       " 'dd': 32033,\n",
       " 'expand': 38582,\n",
       " 'compressed': 28823,\n",
       " 'unless': 91980,\n",
       " 'installed': 50172,\n",
       " 'product': 73172,\n",
       " 'unlikely': 91985,\n",
       " 'holes': 46964,\n",
       " 'related': 76993,\n",
       " 'fixed': 40445,\n",
       " 'sad': 79982,\n",
       " 'makes': 59163,\n",
       " 'reluctant': 77108,\n",
       " 'buy': 24796,\n",
       " 'stinky': 85238,\n",
       " 'hey': 46359,\n",
       " 'competition': 28723,\n",
       " 'ducati': 35282,\n",
       " '900gts': 13404,\n",
       " '1978': 3473,\n",
       " '17k': 3230,\n",
       " 'runs': 79398,\n",
       " 'paint': 69449,\n",
       " 'bronze': 24239,\n",
       " 'brown': 24271,\n",
       " 'orange': 68235,\n",
       " 'faded': 39254,\n",
       " 'leaks': 55875,\n",
       " 'oil': 67645,\n",
       " 'pops': 72167,\n",
       " '1st': 4107,\n",
       " 'accel': 16382,\n",
       " 'shop': 82127,\n",
       " 'trans': 89639,\n",
       " 'leak': 55870,\n",
       " 'sold': 83591,\n",
       " 'bike': 22729,\n",
       " 'owner': 69023,\n",
       " 'want': 95488,\n",
       " '3495': 6425,\n",
       " 'thinking': 88493,\n",
       " '3k': 7148,\n",
       " 'nice': 65711,\n",
       " 'stable': 84757,\n",
       " 'mate': 59762,\n",
       " 'beemer': 22088,\n",
       " 'jap': 51774,\n",
       " 'axis': 20810,\n",
       " 'motors': 63120,\n",
       " 'tuba': 90259,\n",
       " 'irwin': 50998,\n",
       " 'honk': 47105,\n",
       " 'computrac': 28894,\n",
       " 'richardson': 78120,\n",
       " 'tx': 90525,\n",
       " 'cmptrc': 28018,\n",
       " 'lonestar': 57217,\n",
       " 'org': 68325,\n",
       " 'dod': 34594,\n",
       " '0826': 784,\n",
       " 'r75': 75486,\n",
       " 'yep': 99646,\n",
       " 'pretty': 72907,\n",
       " 'jew': 52036,\n",
       " 'understand': 91636,\n",
       " 'jewish': 52041,\n",
       " 'jews': 52045,\n",
       " 'believe': 22223,\n",
       " 'covenant': 30119,\n",
       " 'yhwh': 99729,\n",
       " 'patriarchs': 70006,\n",
       " 'abraham': 16258,\n",
       " 'moses': 63039,\n",
       " 'case': 25910,\n",
       " 'establishes': 37910,\n",
       " 'moral': 62940,\n",
       " 'follow': 40954,\n",
       " 'mankind': 59362,\n",
       " 'decide': 32200,\n",
       " 'boundaries': 23751,\n",
       " 'fall': 39341,\n",
       " 'sadducees': 79994,\n",
       " 'believed': 22224,\n",
       " 'torah': 89307,\n",
       " 'required': 77469,\n",
       " 'pharisees': 70881,\n",
       " 'ancestors': 18487,\n",
       " 'modern': 62628,\n",
       " 'judaism': 52725,\n",
       " 'interpretation': 50470,\n",
       " 'lead': 55850,\n",
       " 'morality': 62944,\n",
       " 'nuances': 66647,\n",
       " 'talmud': 87426,\n",
       " 'essence': 37892,\n",
       " 'biblical': 22653,\n",
       " 'man': 59263,\n",
       " 'christian': 27148,\n",
       " 'necessarily': 65141,\n",
       " 'indicate': 49564,\n",
       " 'outside': 68760,\n",
       " 'relationship': 77001,\n",
       " 'speculate': 84073,\n",
       " 'trouble': 90074,\n",
       " 'created': 30359,\n",
       " 'image': 48959,\n",
       " 'means': 60461,\n",
       " 'different': 33540,\n",
       " 'come': 28443,\n",
       " 'conclusion': 28979,\n",
       " 'upsets': 92440,\n",
       " 'cart': 25870,\n",
       " 'wants': 95493,\n",
       " 'script': 80907,\n",
       " 'shaky': 81798,\n",
       " 'foundation': 41256,\n",
       " 'mix': 62034,\n",
       " 'metaphors': 60982,\n",
       " 'unashamedly': 91409,\n",
       " 'living': 56885,\n",
       " 'christ': 27138,\n",
       " 'example': 38371,\n",
       " 'little': 56849,\n",
       " 'jesus': 52019,\n",
       " 'person': 70636,\n",
       " 'recorded': 76520,\n",
       " 'utterances': 92777,\n",
       " 'narratives': 64835,\n",
       " 'followers': 40957,\n",
       " 'references': 76702,\n",
       " 'comtemporary': 28905,\n",
       " 'historians': 46683,\n",
       " 'revelation': 77874,\n",
       " 'aside': 19815,\n",
       " 'second': 81132,\n",
       " 'hand': 45418,\n",
       " 'worse': 97006,\n",
       " 'attempt': 20247,\n",
       " 'debunk': 32151,\n",
       " 'christianity': 27152,\n",
       " 'initially': 49945,\n",
       " 'bible': 22649,\n",
       " 'interpret': 50469,\n",
       " 'humanity': 47648,\n",
       " 'guess': 44639,\n",
       " 'faith': 39317,\n",
       " 'relevation': 77041,\n",
       " 'comes': 28449,\n",
       " 'inherent': 49906,\n",
       " 'subjectiveness': 85742,\n",
       " 'absolute': 16289,\n",
       " 'undoubtably': 91694,\n",
       " 'multiple': 63839,\n",
       " 'codes': 28164,\n",
       " 'founded': 41258,\n",
       " 'parent': 69723,\n",
       " 'child': 26952,\n",
       " 'swear': 86584,\n",
       " 'assume': 19982,\n",
       " 'swears': 86586,\n",
       " 'simply': 82583,\n",
       " 'told': 89166,\n",
       " 'trooper': 90063,\n",
       " 'pub': 73796,\n",
       " 'bar': 21560,\n",
       " 'children': 26962,\n",
       " 'wrongness': 97183,\n",
       " 'disobeys': 34057,\n",
       " 'inappropriate': 49351,\n",
       " 'quite': 75154,\n",
       " 'happy': 45533,\n",
       " 'animals': 18610,\n",
       " 'analogy': 18434,\n",
       " 'hold': 46950,\n",
       " 'water': 95614,\n",
       " 'knows': 54510,\n",
       " 'type': 90580,\n",
       " 'gist': 43376,\n",
       " 'incidentally': 49396,\n",
       " 'young': 99907,\n",
       " 'considers': 29314,\n",
       " 'directive': 33743,\n",
       " 'gets': 43138,\n",
       " 'older': 67763,\n",
       " 'piaget': 71115,\n",
       " 'learns': 55898,\n",
       " 'david': 31891,\n",
       " 'religion': 77072,\n",
       " 'description': 32989,\n",
       " 'external': 38785,\n",
       " 'tank': 87474,\n",
       " 'option': 68165,\n",
       " 'ssf': 84651,\n",
       " 'redesign': 76600,\n",
       " 'deleted': 32589,\n",
       " 'yo': 99869,\n",
       " 'ken': 53721,\n",
       " 'let': 56169,\n",
       " 'wingless': 96495,\n",
       " 'orbiter': 68251,\n",
       " 'options': 68169,\n",
       " 'list': 56790,\n",
       " 'today': 89130,\n",
       " '23': 4670,\n",
       " 'edition': 36199,\n",
       " 'york': 99893,\n",
       " 'times': 88854,\n",
       " 'reports': 77376,\n",
       " 'connor': 29238,\n",
       " 'panel': 69561,\n",
       " 'proposals': 73425,\n",
       " 'dropped': 35111,\n",
       " 'giant': 43260,\n",
       " 'fuel': 41778,\n",
       " 'tanks': 87481,\n",
       " 'used': 92603,\n",
       " 'launching': 55658,\n",
       " 'space': 83871,\n",
       " 'shuttles': 82293,\n",
       " 'building': 24510,\n",
       " 'station': 84965,\n",
       " 'existing': 38545,\n",
       " 'shuttle': 82292,\n",
       " 'wings': 96499,\n",
       " 'tail': 87346,\n",
       " 'removed': 77197,\n",
       " 'currently': 30989,\n",
       " 'considered': 29312,\n",
       " 'presented': 72819,\n",
       " 'advisory': 17057,\n",
       " 'meeting': 60605,\n",
       " 'yesterday': 99662,\n",
       " 'reported': 77371,\n",
       " 'low': 57387,\n",
       " 'cost': 29982,\n",
       " 'modular': 62660,\n",
       " 'approach': 19181,\n",
       " 'studied': 85618,\n",
       " 'team': 87738,\n",
       " 'msfc': 63573,\n",
       " 'teams': 87743,\n",
       " 'jsc': 52656,\n",
       " 'larc': 55541,\n",
       " 'supporting': 86303,\n",
       " 'srt': 84592,\n",
       " 'crystal': 30707,\n",
       " 'city': 27499,\n",
       " 'lerc': 56138,\n",
       " 'reston': 77692,\n",
       " 'site': 82719,\n",
       " 'locations': 57127,\n",
       " 'helping': 46166,\n",
       " 'respective': 77639,\n",
       " 'activities': 16697,\n",
       " 'key': 53808,\n",
       " 'features': 39747,\n",
       " 'bus': 24710,\n",
       " 'developed': 33229,\n",
       " 'lockheed': 57133,\n",
       " 'qualified': 74982,\n",
       " 'sts': 85595,\n",
       " 'elv': 36790,\n",
       " 'provides': 73569,\n",
       " 'propulsion': 73452,\n",
       " 'gn': 43666,\n",
       " 'communications': 28598,\n",
       " 'management': 59274,\n",
       " 'air': 17534,\n",
       " 'force': 41042,\n",
       " 'power': 72393,\n",
       " 'capability': 25648,\n",
       " 'obtained': 67294,\n",
       " 'flights': 40669,\n",
       " 'solar': 83583,\n",
       " 'arrays': 19620,\n",
       " 'provide': 73563,\n",
       " 'kw': 54972,\n",
       " 'vehicle': 93654,\n",
       " 'flies': 40667,\n",
       " 'arrow': 19652,\n",
       " 'optimize': 68158,\n",
       " 'microgravity': 61430,\n",
       " 'environment': 37419,\n",
       " 'spacelab': 83884,\n",
       " 'missions': 61947,\n",
       " 'utilize': 92738,\n",
       " 'vehilce': 93657,\n",
       " 'source': 83802,\n",
       " '30': 6044,\n",
       " 'human': 47639,\n",
       " 'tended': 87969,\n",
       " 'opposed': 68115,\n",
       " 'old': 67759,\n",
       " 'sexist': 81666,\n",
       " 'achieved': 16570,\n",
       " 'common': 28571,\n",
       " 'module': 62665,\n",
       " 'modified': 62646,\n",
       " 'lab': 55284,\n",
       " 'docking': 34562,\n",
       " 'ports': 72229,\n",
       " 'added': 16795,\n",
       " 'international': 50437,\n",
       " 'partners': 69858,\n",
       " 'labs': 55311,\n",
       " 'place': 71514,\n",
       " 'nodes': 66110,\n",
       " 'docked': 34559,\n",
       " '60': 9762,\n",
       " 'habitability': 45187,\n",
       " 'eva': 38126,\n",
       " 'nasda': 64854,\n",
       " 'esa': 37783,\n",
       " 'modules': 62666,\n",
       " 'permanent': 70552,\n",
       " 'presence': 72812,\n",
       " '3rd': 7312,\n",
       " 'habitation': 45191,\n",
       " 'acrv': 16670,\n",
       " 'assured': 19994,\n",
       " 'return': 77833,\n",
       " 'freedom': 41474,\n",
       " 'derived': 32940,\n",
       " 'based': 21698,\n",
       " 'mike': 61561,\n",
       " 'griffin': 44345,\n",
       " 'alot': 18051,\n",
       " 'design': 33018,\n",
       " 'love': 57373,\n",
       " 'assumes': 19984,\n",
       " 'lightweight': 56581,\n",
       " 'assembly': 19916,\n",
       " 'computed': 28880,\n",
       " '51': 8668,\n",
       " 'inclination': 49405,\n",
       " 'orbit': 68247,\n",
       " 'build': 24505,\n",
       " 'occurs': 67354,\n",
       " 'phases': 70894,\n",
       " 'initial': 49935,\n",
       " 'research': 77504,\n",
       " 'reached': 76187,\n",
       " 'transferred': 89685,\n",
       " 'visits': 94232,\n",
       " 'adopted': 16951,\n",
       " 'non': 66154,\n",
       " 'language': 55481,\n",
       " 'deployed': 32863,\n",
       " '10': 1469,\n",
       " 'keeping': 53675,\n",
       " 'orbiters': 68252,\n",
       " 'logistics': 57191,\n",
       " 'supply': 86295,\n",
       " 'tolerance': 89169,\n",
       " '14': 2593,\n",
       " '2nd': 5688,\n",
       " 'thermal': 88410,\n",
       " 'control': 29584,\n",
       " 'radiator': 75631,\n",
       " 'internationals': 50442,\n",
       " 'finish': 40324,\n",
       " '24': 4749,\n",
       " 'systems': 86883,\n",
       " 'exception': 38399,\n",
       " 'major': 59141,\n",
       " 'changes': 26659,\n",
       " 'reduced': 76636,\n",
       " 'prices': 72956,\n",
       " 'forsale': 41194,\n",
       " 'behalf': 22143,\n",
       " 'brother': 24260,\n",
       " 'moving': 63196,\n",
       " 'moved': 63183,\n",
       " 'offer': 67520,\n",
       " 'black': 23022,\n",
       " 'decker': 32228,\n",
       " 'duster': 35435,\n",
       " 'portable': 72208,\n",
       " 'vaccum': 93242,\n",
       " 'purchased': 73968,\n",
       " '12': 2222,\n",
       " 'sr': 84531,\n",
       " '1000': 1471,\n",
       " 'dual': 35259,\n",
       " 'cassette': 25936,\n",
       " 'player': 71621,\n",
       " 'fm': 40810,\n",
       " 'band': 21496,\n",
       " 'graphics': 44152,\n",
       " 'equalizer': 37586,\n",
       " 'high': 46527,\n",
       " 'dubing': 35273,\n",
       " 'tape': 87499,\n",
       " 'deck': 32225,\n",
       " 'treble': 89873,\n",
       " 'sound': 83782,\n",
       " 'bet': 22453,\n",
       " 'fixable': 40441,\n",
       " '80': 12265,\n",
       " '25': 4899,\n",
       " 'monolux': 62839,\n",
       " 'zoom': 100977,\n",
       " 'microscope': 61457,\n",
       " '1200x': 2230,\n",
       " 'magnification': 59017,\n",
       " 'japan': 51775,\n",
       " 'includes': 49413,\n",
       " 'accessories': 16428,\n",
       " '50': 8581,\n",
       " 'sunbeam': 86108,\n",
       " '1400': 2595,\n",
       " 'hair': 45268,\n",
       " 'dryer': 35154,\n",
       " 'head': 45919,\n",
       " 'salons': 80131,\n",
       " 'ask': 19822,\n",
       " 'bro': 24188,\n",
       " 'everylast': 38211,\n",
       " 'bag': 21361,\n",
       " 'leather': 55908,\n",
       " 'brand': 23943,\n",
       " 'osterizer': 68572,\n",
       " 'pusle': 74040,\n",
       " 'matic': 59800,\n",
       " 'blender': 23128,\n",
       " 'speeds': 84102,\n",
       " 'cookbook': 29688,\n",
       " 'binolux': 22820,\n",
       " 'binoculars': 22819,\n",
       " '7x35': 12225,\n",
       " 'extra': 38803,\n",
       " 'angle': 18580,\n",
       " '525ft': 8740,\n",
       " '1000yds': 1536,\n",
       " 'proctor': 73154,\n",
       " 'silex': 82499,\n",
       " 'spray': 84355,\n",
       " 'steam': 85032,\n",
       " 'dry': 35151,\n",
       " 'iron': 50927,\n",
       " 'contact': 29439,\n",
       " 'reply': 77358,\n",
       " 'expeditously': 38614,\n",
       " 'included': 49410,\n",
       " 'lastly': 55597,\n",
       " 'reasonable': 76308,\n",
       " 'look': 57244,\n",
       " 'happened': 45523,\n",
       " 'japanese': 51777,\n",
       " 'citizens': 27490,\n",
       " 'war': 95496,\n",
       " 'ii': 48746,\n",
       " 'prepared': 72773,\n",
       " 'stick': 85191,\n",
       " 'concentration': 28939,\n",
       " 'camp': 25509,\n",
       " 'trial': 89919,\n",
       " 'short': 82145,\n",
       " 'step': 85097,\n",
       " 'gassing': 42622,\n",
       " 'nazis': 64974,\n",
       " 'originally': 68386,\n",
       " 'imprison': 49259,\n",
       " 'final': 40279,\n",
       " 'solution': 83641,\n",
       " 'dreamt': 35029,\n",
       " 'partly': 69855,\n",
       " 'afford': 17210,\n",
       " 'run': 79380,\n",
       " 'camps': 25528,\n",
       " 'devastation': 33222,\n",
       " 'caused': 26052,\n",
       " 'goering': 43761,\n",
       " 'total': 89373,\n",
       " 'weren': 95971,\n",
       " 'gassed': 42618,\n",
       " 'generally': 42923,\n",
       " 'died': 33500,\n",
       " 'malnutrition': 59232,\n",
       " 'disease': 33957,\n",
       " 'certainly': 26431,\n",
       " 'tiff': 88778,\n",
       " 'works': 96972,\n",
       " 'philosophically': 70960,\n",
       " 'complexity': 28771,\n",
       " 'led': 55941,\n",
       " 'programs': 73244,\n",
       " 'poor': 72142,\n",
       " 'writers': 97163,\n",
       " 'making': 59171,\n",
       " 'bizarre': 22959,\n",
       " 'files': 40237,\n",
       " 'inability': 49329,\n",
       " 'load': 57077,\n",
       " 'images': 48972,\n",
       " 'save': 80403,\n",
       " 'general': 42913,\n",
       " 'interchange': 50346,\n",
       " 'environments': 37426,\n",
       " 'despite': 33074,\n",
       " 'fact': 39225,\n",
       " 'saying': 80434,\n",
       " 'goes': 43763,\n",
       " 'worried': 97001,\n",
       " 'abuse': 16331,\n",
       " 'chalk': 26599,\n",
       " 'immense': 49051,\n",
       " 'unnecessary': 92029,\n",
       " 'format': 41154,\n",
       " 'words': 96938,\n",
       " 'spec': 84005,\n",
       " 'appendix': 19086,\n",
       " 'page': 69414,\n",
       " 'capitalized': 25674,\n",
       " 'emphasis': 36958,\n",
       " 'sort': 83759,\n",
       " 'success': 85911,\n",
       " 'designed': 33024,\n",
       " 'powerful': 72403,\n",
       " 'flexible': 40646,\n",
       " 'expense': 38628,\n",
       " 'simplicity': 82576,\n",
       " 'takes': 87380,\n",
       " 'effort': 36334,\n",
       " 'handle': 45454,\n",
       " 'specification': 84031,\n",
       " 'application': 19116,\n",
       " 'complete': 28755,\n",
       " 'job': 52351,\n",
       " 'able': 16214,\n",
       " 'import': 49217,\n",
       " 'generating': 42930,\n",
       " 'applications': 19119,\n",
       " 'program': 73220,\n",
       " 'won': 96869,\n",
       " 'deal': 32085,\n",
       " 'trapped': 89800,\n",
       " 'agrees': 17378,\n",
       " 'reasoning': 76314,\n",
       " 'asking': 19831,\n",
       " 'kind': 54125,\n",
       " 'rates': 75906,\n",
       " 'single': 82647,\n",
       " 'male': 59191,\n",
       " 'drivers': 35086,\n",
       " 'yrs': 99983,\n",
       " 'paying': 70081,\n",
       " 'performance': 70498,\n",
       " 'cars': 25863,\n",
       " 'replies': 77355,\n",
       " 'received': 76389,\n",
       " '27': 5071,\n",
       " 'close': 27905,\n",
       " '1992': 3495,\n",
       " 'dodge': 34601,\n",
       " 'stealth': 85030,\n",
       " 'rt': 79238,\n",
       " 'twin': 90491,\n",
       " 'turbo': 90333,\n",
       " '300hp': 6061,\n",
       " 'tickets': 88752,\n",
       " 'accidents': 16436,\n",
       " 'house': 47314,\n",
       " 'taken': 87375,\n",
       " 'defensive': 32428,\n",
       " 'driving': 35093,\n",
       " 'airbag': 17539,\n",
       " 'abs': 16277,\n",
       " 'security': 81179,\n",
       " 'alarm': 17757,\n",
       " '1500': 2779,\n",
       " '500': 8582,\n",
       " 'decut': 32319,\n",
       " 'state': 84941,\n",
       " 'farm': 39461,\n",
       " 'insurance': 50247,\n",
       " 'additional': 16807,\n",
       " '100': 1470,\n",
       " '000': 1,\n",
       " 'umbrella': 91316,\n",
       " 'policy': 72011,\n",
       " 'standard': 84835,\n",
       " '300': 6045,\n",
       " 'bought': 23738,\n",
       " 'company': 28634,\n",
       " 'accident': 16432,\n",
       " 'ticket': 88750,\n",
       " '11': 1912,\n",
       " 'quoted': 75178,\n",
       " 'hope': 47148,\n",
       " 'helps': 46169,\n",
       " 'steve': 85158,\n",
       " 'flynn': 40808,\n",
       " 'university': 91945,\n",
       " 'delaware': 32572,\n",
       " '45': 7764,\n",
       " 'kevin': 53793,\n",
       " 'remembered': 77150,\n",
       " 'correctly': 29892,\n",
       " 'asked': 19826,\n",
       " 'similar': 82546,\n",
       " 'situation': 82731,\n",
       " 'inquiry': 50071,\n",
       " 'age': 17301,\n",
       " 'eagle': 35883,\n",
       " 'talon': 87427,\n",
       " 'tsi': 90186,\n",
       " 'awd': 20738,\n",
       " 'record': 76519,\n",
       " 'clean': 27737,\n",
       " 'illinois': 48906,\n",
       " '820': 12437,\n",
       " ...}"
      ]
     },
     "execution_count": 124,
     "metadata": {},
     "output_type": "execute_result"
    }
   ],
   "source": [
    "vectorizer.vocabulary_"
   ]
  },
  {
   "cell_type": "markdown",
   "metadata": {
    "id": "Ki7CwruhB1xN"
   },
   "source": [
    "Индекс, например, для слова anyone:"
   ]
  },
  {
   "cell_type": "code",
   "execution_count": 115,
   "metadata": {
    "colab": {
     "base_uri": "https://localhost:8080/",
     "height": 34
    },
    "id": "N2XVuQu3B1xP",
    "outputId": "dc04f83b-482a-4598-cd3e-71f2fdcaa2fe"
   },
   "outputs": [
    {
     "data": {
      "text/plain": [
       "99680"
      ]
     },
     "execution_count": 115,
     "metadata": {},
     "output_type": "execute_result"
    }
   ],
   "source": [
    "vectorizer.vocabulary_.get('yf9f9f9f0')"
   ]
  },
  {
   "cell_type": "markdown",
   "metadata": {
    "id": "H9ckeTs2B1xT"
   },
   "source": [
    "А теперь преобразуем строку в вектор:"
   ]
  },
  {
   "cell_type": "code",
   "execution_count": 9,
   "metadata": {
    "id": "DKb4MKQBB1xU"
   },
   "outputs": [],
   "source": [
    "text = 'I was wondering if anyone out there could enlighten me on this car I saw'\n",
    "x = vectorizer.transform([text])"
   ]
  },
  {
   "cell_type": "markdown",
   "metadata": {
    "id": "ULWh4DvrB1xX"
   },
   "source": [
    "Какой тип имеет объект, на который указывает ```x```?"
   ]
  },
  {
   "cell_type": "code",
   "execution_count": 10,
   "metadata": {
    "colab": {
     "base_uri": "https://localhost:8080/",
     "height": 34
    },
    "id": "LSi_b4mIB1xX",
    "outputId": "8c3bbb1c-13da-4dd3-e12a-1a87058f54e2"
   },
   "outputs": [
    {
     "data": {
      "text/plain": [
       "scipy.sparse.csr.csr_matrix"
      ]
     },
     "execution_count": 10,
     "metadata": {},
     "output_type": "execute_result"
    }
   ],
   "source": [
    "type(x)"
   ]
  },
  {
   "cell_type": "markdown",
   "metadata": {
    "id": "VdVtA7GmB1xZ"
   },
   "source": [
    "Разреженная матрица!"
   ]
  },
  {
   "cell_type": "markdown",
   "metadata": {
    "id": "ugUSIc9PB1xa"
   },
   "source": [
    "### Отступление про разреженные матрицы"
   ]
  },
  {
   "cell_type": "markdown",
   "metadata": {
    "id": "OB_zLEVBB1xa"
   },
   "source": [
    "Список ненулевых элементов матрицы:"
   ]
  },
  {
   "cell_type": "code",
   "execution_count": 166,
   "metadata": {
    "colab": {
     "base_uri": "https://localhost:8080/",
     "height": 34
    },
    "id": "5ygEpbSSB1xb",
    "outputId": "def34294-ba6a-481f-8346-5502b1279db6"
   },
   "outputs": [
    {
     "data": {
      "text/plain": [
       "(1, 101322)"
      ]
     },
     "execution_count": 166,
     "metadata": {},
     "output_type": "execute_result"
    }
   ],
   "source": [
    "x.data\n",
    "x.shape"
   ]
  },
  {
   "cell_type": "markdown",
   "metadata": {
    "id": "tejzzkvFB1xd"
   },
   "source": [
    "Индексы строк и столбцов для ненулевых элементов:"
   ]
  },
  {
   "cell_type": "code",
   "execution_count": 12,
   "metadata": {
    "colab": {
     "base_uri": "https://localhost:8080/",
     "height": 51
    },
    "id": "iYlLQ9WaB1xe",
    "outputId": "cf89901c-a082-4fc8-959c-f04dcf06eeab"
   },
   "outputs": [
    {
     "data": {
      "text/plain": [
       "(array([0, 0, 0, 0]), array([25717, 37256, 80420, 96879]))"
      ]
     },
     "execution_count": 12,
     "metadata": {},
     "output_type": "execute_result"
    }
   ],
   "source": [
    "x.nonzero()"
   ]
  },
  {
   "cell_type": "markdown",
   "metadata": {
    "id": "43HhCWNTB1xg"
   },
   "source": [
    "Преобразование к объекту ndarray (именно после приведения к такому виду разреженные матрицы можно подставлять в функции, например, библиотеки Numpy):"
   ]
  },
  {
   "cell_type": "code",
   "execution_count": 13,
   "metadata": {
    "colab": {
     "base_uri": "https://localhost:8080/",
     "height": 34
    },
    "id": "1U7rGrAYB1xh",
    "outputId": "5a9797a7-d8ec-4484-9daa-7f33593110ed"
   },
   "outputs": [
    {
     "data": {
      "text/plain": [
       "array([[0, 0, 0, ..., 0, 0, 0]], dtype=int64)"
      ]
     },
     "execution_count": 13,
     "metadata": {},
     "output_type": "execute_result"
    }
   ],
   "source": [
    "x.toarray()"
   ]
  },
  {
   "cell_type": "markdown",
   "metadata": {
    "id": "rNcjGOXGB1xk"
   },
   "source": [
    "Вернемся к словарю. Раскодируем вектор ```x``` в список слов:"
   ]
  },
  {
   "cell_type": "code",
   "execution_count": 14,
   "metadata": {
    "colab": {
     "base_uri": "https://localhost:8080/",
     "height": 34
    },
    "id": "_A38zVwvB1xk",
    "outputId": "4e516746-8f3e-4cad-8c20-64d0ee8fdc8e"
   },
   "outputs": [
    {
     "data": {
      "text/plain": [
       "[array(['car', 'enlighten', 'saw', 'wondering'], dtype='<U81')]"
      ]
     },
     "execution_count": 14,
     "metadata": {},
     "output_type": "execute_result"
    }
   ],
   "source": [
    "vectorizer.inverse_transform(x)"
   ]
  },
  {
   "cell_type": "markdown",
   "metadata": {
    "id": "P4TuPHK1B1xm"
   },
   "source": [
    "Пропало слово ```I```. Но дело в том, что по умолчанию ```CountVectorizer``` отбрасывает последовательности, короче 2 символов. На это указывает параметр ```token_pattern='(?u)\\\\b\\\\w\\\\w+\\\\b'```."
   ]
  },
  {
   "cell_type": "markdown",
   "metadata": {
    "id": "qZYK2sG_B1xn"
   },
   "source": [
    "Переведем весь набор текстов обучающего датасета в набор векторов, получим матрицу ```X_train```:"
   ]
  },
  {
   "cell_type": "code",
   "execution_count": 15,
   "metadata": {
    "colab": {
     "base_uri": "https://localhost:8080/",
     "height": 34
    },
    "id": "Uhj_aRW7B1xn",
    "outputId": "76e48a96-b2ef-4512-a807-026daf579ece"
   },
   "outputs": [
    {
     "data": {
      "text/plain": [
       "(11314, 101322)"
      ]
     },
     "execution_count": 15,
     "metadata": {},
     "output_type": "execute_result"
    }
   ],
   "source": [
    "X_train = vectorizer.fit_transform(newsgroups_train.data)\n",
    "X_train.shape"
   ]
  },
  {
   "cell_type": "markdown",
   "metadata": {
    "id": "DeYz7ZxuB1xs"
   },
   "source": [
    "О пользе разреженных матриц. Отношение числа ненулевых элементов ко всем элементам матрицы ```X_train```:"
   ]
  },
  {
   "cell_type": "code",
   "execution_count": 16,
   "metadata": {
    "colab": {
     "base_uri": "https://localhost:8080/",
     "height": 34
    },
    "id": "lkc9UFcTB1xt",
    "outputId": "7eba71e7-52f1-4887-d02a-fde0418ceaf4"
   },
   "outputs": [
    {
     "data": {
      "text/plain": [
       "0.0006593137467596179"
      ]
     },
     "execution_count": 16,
     "metadata": {},
     "output_type": "execute_result"
    }
   ],
   "source": [
    "X_train.nnz / np.prod(X_train.shape)"
   ]
  },
  {
   "cell_type": "markdown",
   "metadata": {
    "id": "i9ZpBC7Sgauk"
   },
   "source": [
    "\n",
    "Задача: запустить модель LDA и Gibbs Sampling с числов тегов 20. Вывести топ-10 слов по каждому тегу. Соотнести полученные теги с тегами из датасета, сделать выводы. "
   ]
  },
  {
   "cell_type": "code",
   "execution_count": 101,
   "metadata": {},
   "outputs": [
    {
     "data": {
      "text/plain": [
       "dict_keys(['data', 'filenames', 'target_names', 'target', 'DESCR'])"
      ]
     },
     "execution_count": 101,
     "metadata": {},
     "output_type": "execute_result"
    }
   ],
   "source": [
    "newsgroups_train.keys()"
   ]
  },
  {
   "cell_type": "markdown",
   "metadata": {},
   "source": [
    "### ДЗ"
   ]
  },
  {
   "cell_type": "code",
   "execution_count": 248,
   "metadata": {
    "scrolled": true
   },
   "outputs": [
    {
     "data": {
      "text/plain": [
       "LatentDirichletAllocation(batch_size=1, max_iter=50, n_components=20, n_jobs=-1)"
      ]
     },
     "execution_count": 248,
     "metadata": {},
     "output_type": "execute_result"
    }
   ],
   "source": [
    "import numpy as np\n",
    "from sklearn.decomposition import LatentDirichletAllocation as LDA\n",
    "lda  = LDA(n_components=20, max_iter=50, batch_size=1, n_jobs = -1,)\n",
    "lda.fit(X_train)"
   ]
  },
  {
   "cell_type": "code",
   "execution_count": 238,
   "metadata": {},
   "outputs": [],
   "source": [
    "import sys\n",
    "def _print(string):\n",
    "  sys.stdout.write(string)\n",
    "  sys.stdout.flush()\n",
    "import time"
   ]
  },
  {
   "cell_type": "code",
   "execution_count": 239,
   "metadata": {},
   "outputs": [
    {
     "name": "stdout",
     "output_type": "stream",
     "text": [
      "========\n",
      "epoch 1 took 81 seconds\n",
      "========\n",
      "epoch 2 took 81 seconds\n",
      "========\n",
      "epoch 3 took 81 seconds\n",
      "========\n",
      "epoch 4 took 81 seconds\n",
      "========\n",
      "epoch 5 took 81 seconds\n",
      "========\n",
      "epoch 6 took 81 seconds\n",
      "========\n",
      "epoch 7 took 80 seconds\n",
      "========\n",
      "epoch 8 took 83 seconds\n",
      "========\n",
      "epoch 9 took 81 seconds\n",
      "========\n",
      "epoch 10 took 80 seconds\n",
      "['wondering' 'gain' 'pity' 'ahp' 'caustic' 'keenan' 'attributing' 'shov'\n",
      " 'zrcimv' 'w1t85' 'newtek']\n",
      "['wondering' 'applicable' 'batf' 'gain' 'flare' 'evidence' 'hewlett'\n",
      " '1z6ei' 'scirocco' 'ytn']\n",
      "['applicable' '65' 'smileys' 'riding' 'bicycling' 'heritage' 'bossy'\n",
      " '11hddn' 'moments' 'greatest' 'cw86' 'climbs' 'inquires']\n",
      "['65' 'branstad' '1z6ei' 'mile' 'o0_' 'd0' 'genes' '11471t' 'climbs'\n",
      " 'choueiry']\n",
      "['fuentez' 'unusal' 'darkness' 'caustic' 'iholsman' 'ics' '10036'\n",
      " 'regulate' 'remodeled' 'zrcimv' 'relcom' 'xtappaddinput' 'compass6']\n",
      "['wondering' 'deserving' 'evidence' 'msl' 'invades' 'covering' 'zpg' 'fs'\n",
      " 'ahp' '0ggv' 'climbs' 'potato' 'stressful' 'torches' 'frip']\n",
      "['1z6ei' 'continuously' 'slapped' 'fahr' 'sterling' 'w1t85' 'newtek'\n",
      " 'frip' 'dearer' 'augustus']\n",
      "['dungeon' 'rik' 'glim' 'ng0fpkhf7' 'stargell' 'journeyed' 'upheavals'\n",
      " 'qf7i' 'esia' 'cloutmeister' 'trujillo' 'lacht']\n",
      "['perennial' 'continuously' 'contretemps' 'vd8' 'genes' 'v11' '11471t'\n",
      " 'w1t85' 'potato' 'frip']\n",
      "['magnetosphere' 'pedic' 'automatically' 'developers' 'bicycling' '1z6ei'\n",
      " 'fo9h' 'cosmicly' '16v' 'revelations' 'verlag' 'ng1tll' 'aff106dz'\n",
      " 'climbs' 'integral' 'nrhjn']\n",
      "['zrcimv' 'expended' 'honourable' 'xtappaddinput' 'p3nnk' 'cagdas'\n",
      " 'authorizing' 'pietrangelo' 'orono' '3jf']\n",
      "['borland' 'hewlett' 'msl' 'farmers' 'alleviates' 'goaltenders' 'sacrum'\n",
      " 'mi0' 'rtf' '528']\n",
      "['11471t' 'zrcimv' 'expended' 'honourable' 'xtappaddinput' 'y4p9' '1067'\n",
      " 'motorolla' 'waseda' 'drl']\n",
      "['applicable' 'flare' 'branstad' 'ignores' 'kxqwl8' '2800' 'zrcimv'\n",
      " 'grandprix' 'ills' 'honourable' 'frip']\n",
      "['65' 'russians' 'hewlett' 'heritage' '_told_' '11hddn' 'pump'\n",
      " 'notwithstanding' 'iholsman' 'microorganisms' 'm72' '08w' 'x0i67'\n",
      " 'expended' 'xtgetselectionvalueincremental' 'personable' 'taces' 'thp']\n",
      "['enlighten' 'applicable' 'zpg' '11hddn' 'lamentation' 'commentator'\n",
      " 'boleslaw' '11471t' 'zrcimv' 'climbs' 'potato' 'sump' 'newtek']\n",
      "['blinds' '71199s1' '35294' '4368' 'hellenized' 'u9j' 'jmf' 'breakin'\n",
      " 'anvil' 'metgem' 'ekfoxkylv' 'twain']\n",
      "['source' 'lowell' 'practical' 'barreled' 'svcxq' 'absorb' 'elated'\n",
      " 'engelbert' 'climbs' 'prix' 'aretz' 'impemented' 'autoranging'\n",
      " '_____________________________________________________' 'ho5i'\n",
      " 'annotated' 'vulcanized' 'lyjj3' '0m75']\n",
      "['included' 'vendors' 'badshmseg' 'patients' 'gain' 'branstad' 'smileys'\n",
      " '1z6ei' 'vbdivmhm' 'giyu' 'lives' 'recondense' 'germano' 'zpg' 'eaodn']\n",
      "['source' 'closest' 'cross' '680060' '2800' 'proterm' 'zfe' 'genes'\n",
      " 'zrcimv' 'plow' 'occassion' '779j']\n"
     ]
    }
   ],
   "source": [
    "#step 1\n",
    "n_kw, n_dk, n_k = np.zeros((20, 101322)), np.zeros((11314, 20)), np.zeros((20,))\n",
    "#step 2\n",
    "xnz = X_train.nonzero()\n",
    "xnzlen = X_train.nonzero()[0].shape[0]\n",
    "tags = np.random.choice(20, xnzlen)\n",
    "for i in range(xnzlen):\n",
    "  k, d, w = tags[i], xnz[0][i], xnz[1][i]\n",
    "  n_kw[k, w] += 1\n",
    "  n_dk[d, k] += 1\n",
    "  n_k[k] += 1\n",
    "#step 3\n",
    "def main_algo(a_k, b, epoch_num = 10):\n",
    "  for epoch in range(epoch_num):\n",
    "    start_time = time.time()\n",
    "    for i in range(xnzlen):\n",
    "      if i % 10 ** 5 == 0:\n",
    "        _print(\"=\")\n",
    "      k, d, w = tags[i], xnz[0][i], xnz[1][i]\n",
    "      n_kw[k, w] -= 1\n",
    "      n_dk[d, k] -= 1\n",
    "      n_k[k] -= 1\n",
    "      p_k = (n_dk[d] + a_k) * (n_kw[:, w] + b[w]) / (n_k + np.sum(b))\n",
    "      p_k /= np.sum(p_k)\n",
    "      tags[i] = np.random.choice(20, p = p_k)\n",
    "      k = tags[i]\n",
    "      n_kw[k, w] += 1\n",
    "      n_dk[d, k] += 1\n",
    "      n_k[k] += 1\n",
    "    _print('\\nepoch %d took %d seconds\\n' % (epoch + 1, time.time() - start_time))\n",
    "a_k = np.full((20,), 1.) # не понял чем инициализировать\n",
    "b = np.full((101322,), 1. ) # не понял чем инициализировать\n",
    "main_algo(a_k, b, 10)\n",
    "#result\n",
    "words = np.asarray(list(vectorizer.vocabulary_.keys()))\n",
    "for i in range(20):\n",
    "  a = (n_kw[i] >= np.sort(n_kw[i])[-10])\n",
    "  print(words[a])"
   ]
  },
  {
   "cell_type": "code",
   "execution_count": 261,
   "metadata": {},
   "outputs": [
    {
     "name": "stdout",
     "output_type": "stream",
     "text": [
      "1| 00 15 80 ago bad best bob cs don drive interested\n",
      "2| 00 10 11 15 16 19 24 30 55 88\n",
      "3| 10 14 25 26 28 29 59 actually au based display edu player\n",
      "4| 14 17 30 63 83 85 com does edu paint\n",
      "5| arab armenian army bad called case children control did don genocide like serdar\n",
      "6| 00 13 19 39 42 66 92 99 ago defined edu email fg leafs sale\n",
      "7| 30 appreciated box card condition drive interested sale scsi shipping\n",
      "8| banks cadre chastity dsl geb gordon intellect n3jxp pitt shameful skepticism surrender\n",
      "9| 486 appreciated board brand com computer does drive email sale\n",
      "10| 146 18 20 22 28 30 3rd 500 72 bbs colors copy david edu game mike\n",
      "11| don just know like make people say think time way\n",
      "12| 23 24 39 43 44 51 68 86 boston chicago\n",
      "13| does don just know like need thanks use used using\n",
      "14| 10 16 17 27 according anybody don electrical experiences know sale\n",
      "15| 14 185 24 29 49 actually amateur bike called centris db hp hr just list mileage rubber sf\n",
      "16| 000 10 92 actually bit bought ca does don edu email ford interested\n",
      "17| cd e1 hi m0 mn mt nb sb sc uh wk yd\n",
      "18| 06 4t 5000 56 advance appreciate bobby car edu er fd fourth hd im ma playoff roger student tm\n",
      "19| 09 100 125 129 15 17 25 30 32 35 50 71 79 92 wm\n",
      "20| 06 1993 200 64 anybody battery caps com don handles jr m4\n"
     ]
    }
   ],
   "source": [
    "words = np.asarray(list(vectorizer.vocabulary_.keys()))\n",
    "for i in range(20):\n",
    "  mask = (n_kw[i] >= np.sort(n_kw[i])[-10])\n",
    "  print(\"%d|\" % (i + 1), \" \".join(vectorizer.inverse_transform(mask)[0]))"
   ]
  },
  {
   "cell_type": "code",
   "execution_count": 262,
   "metadata": {},
   "outputs": [
    {
     "data": {
      "text/plain": [
       "['alt.atheism',\n",
       " 'comp.graphics',\n",
       " 'comp.os.ms-windows.misc',\n",
       " 'comp.sys.ibm.pc.hardware',\n",
       " 'comp.sys.mac.hardware',\n",
       " 'comp.windows.x',\n",
       " 'misc.forsale',\n",
       " 'rec.autos',\n",
       " 'rec.motorcycles',\n",
       " 'rec.sport.baseball',\n",
       " 'rec.sport.hockey',\n",
       " 'sci.crypt',\n",
       " 'sci.electronics',\n",
       " 'sci.med',\n",
       " 'sci.space',\n",
       " 'soc.religion.christian',\n",
       " 'talk.politics.guns',\n",
       " 'talk.politics.mideast',\n",
       " 'talk.politics.misc',\n",
       " 'talk.religion.misc']"
      ]
     },
     "execution_count": 262,
     "metadata": {},
     "output_type": "execute_result"
    }
   ],
   "source": [
    "newsgroups_train.target_names\n"
   ]
  },
  {
   "cell_type": "markdown",
   "metadata": {},
   "source": [
    "Полученные теги содержат много чисел, скорее всего за 10 эпох алгоритм ещё не сошёлся. Но можно выделить например 5 тег, который относится к ближнему востоку или 8, который относится к скептицизму."
   ]
  }
 ],
 "metadata": {
  "colab": {
   "collapsed_sections": [],
   "name": "Topic Modeling",
   "provenance": []
  },
  "kernelspec": {
   "display_name": "Python 3",
   "language": "python",
   "name": "python3"
  },
  "language_info": {
   "codemirror_mode": {
    "name": "ipython",
    "version": 3
   },
   "file_extension": ".py",
   "mimetype": "text/x-python",
   "name": "python",
   "nbconvert_exporter": "python",
   "pygments_lexer": "ipython3",
   "version": "3.8.3"
  }
 },
 "nbformat": 4,
 "nbformat_minor": 1
}
